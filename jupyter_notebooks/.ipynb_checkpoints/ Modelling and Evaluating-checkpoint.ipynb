jupyter notebook --NotebookApp.token='' --NotebookApp.password=''{
 "cells": [
  {
   "cell_type": "markdown",
   "id": "1ea64584-aa18-4e63-a811-6eba29f8e96e",
   "metadata": {},
   "source": [
    "# Modelling and Evaluation Notebook"
   ]
  },
  {
   "cell_type": "markdown",
   "id": "b627f223-0d64-46ef-9af1-ccdfb5714784",
   "metadata": {},
   "source": [
    "## Objectives"
   ]
  },
  {
   "cell_type": "markdown",
   "id": "c4268052-3899-44bb-a960-0bb862d7616b",
   "metadata": {},
   "source": [
    "* Answer business requirement 2:"
   ]
  },
  {
   "cell_type": "markdown",
   "id": "40a28ea3-b312-4caa-89a7-dd547c1b9d7d",
   "metadata": {},
   "source": [
    "  * The client is interested in predicting if a cherry leaf is healthy or contains powdery mildew."
   ]
  },
  {
   "cell_type": "markdown",
   "id": "86ae48be-260a-44c8-8ac5-3194e51e952b",
   "metadata": {},
   "source": [
    "## Inputs"
   ]
  },
  {
   "cell_type": "markdown",
   "id": "f5967249-4e31-4f62-b76a-7bb690fe7339",
   "metadata": {},
   "source": [
    "    * inputs/cherry_leaves/cherry-leaves/train\n",
    "    * inputs/cherry_leaves/cherry-leaves/test\n",
    "    * inputs/malaria/cherry-leaves/validation\n",
    "    * image shape embeddings.\n"
   ]
  },
  {
   "cell_type": "markdown",
   "id": "11cd156a-d620-4ee9-9205-6a6cb4369ddb",
   "metadata": {},
   "source": [
    "## Outputs"
   ]
  },
  {
   "cell_type": "markdown",
   "id": "be7689be-4448-4f65-afce-30808dcac59d",
   "metadata": {},
   "source": [
    "\n",
    "    * Images distribution plot in train, validation, and test set.\n",
    "    * Image augmentation.\n",
    "    * Class indices to change prediction inference in labels.\n",
    "    * Machine learning model creation and training.\n",
    "    * Save model.\n",
    "    * Learning curve plot for model performance.\n",
    "    * Model evaluation on pickle file.\n",
    "    * Prediction on the random image file.\n"
   ]
  },
  {
   "cell_type": "markdown",
   "id": "5cbbd750-1a02-4007-bd8d-f5f44af8d00f",
   "metadata": {},
   "source": [
    "## Import regular packages"
   ]
  },
  {
   "cell_type": "code",
   "execution_count": null,
   "id": "d1cd2ca8-f5b0-4159-ab4c-583d110a1e75",
   "metadata": {},
   "outputs": [],
   "source": [
    "import os\n",
    "import pandas as pd\n",
    "import numpy as np\n",
    "import matplotlib.pyplot as plt\n",
    "import seaborn as sns\n",
    "from matplotlib.image import imread"
   ]
  },
  {
   "cell_type": "markdown",
   "id": "abbbad67-69bd-40e3-bbc5-68b91b2616f6",
   "metadata": {},
   "source": [
    "## Set Working Directory"
   ]
  },
  {
   "cell_type": "code",
   "execution_count": null,
   "id": "69bcf861-a2f4-4ae2-b1fe-bd4eacec0862",
   "metadata": {},
   "outputs": [],
   "source": [
    "cwd= os.getcwd()"
   ]
  },
  {
   "cell_type": "code",
   "execution_count": null,
   "id": "d175119c-bfa1-42ce-a9cf-d81fbe2412a5",
   "metadata": {},
   "outputs": [],
   "source": [
    "os.chdir('/workspaces/milestone-project-mildew-detection-in-cherry-leaves')\n",
    "print(\"You set a new current directory\")"
   ]
  },
  {
   "cell_type": "code",
   "execution_count": null,
   "id": "66624d70-aa01-465d-89ee-de9facd3c57f",
   "metadata": {},
   "outputs": [],
   "source": [
    "work_dir = os.getcwd()\n",
    "work_dir"
   ]
  },
  {
   "cell_type": "markdown",
   "id": "dde94fad-5535-44b5-b3c1-341e560f0843",
   "metadata": {},
   "source": [
    "## Set input directories"
   ]
  },
  {
   "cell_type": "markdown",
   "id": "21da94df-f083-4c10-8496-865726a60131",
   "metadata": {},
   "source": [
    "### Set train, validation and test paths"
   ]
  },
  {
   "cell_type": "code",
   "execution_count": null,
   "id": "4d946db2-0d1f-48b0-a5fb-7f10f264f8a4",
   "metadata": {},
   "outputs": [],
   "source": [
    "my_data_dir = 'inputs/cherry_leaves/cherry-leaves'\n",
    "train_path = my_data_dir + '/train'\n",
    "val_path = my_data_dir + '/validation'\n",
    "test_path = my_data_dir + '/test'"
   ]
  },
  {
   "cell_type": "markdown",
   "id": "59a17d34-c339-4613-af11-b1d4f5fcfeed",
   "metadata": {},
   "source": [
    "## Set output directory"
   ]
  },
  {
   "cell_type": "code",
   "execution_count": null,
   "id": "367aa93a-0199-466e-a618-1aa43536bb74",
   "metadata": {},
   "outputs": [],
   "source": [
    "version = 'v1'\n",
    "file_path = f'outputs/{version}'\n",
    "\n",
    "if 'outputs' in os.listdir(work_dir) and version in os.listdir(work_dir + '/outputs'):\n",
    "    print('Old version is already available create a new version.')\n",
    "    pass\n",
    "else:\n",
    "    os.makedirs(name=file_path)"
   ]
  },
  {
   "cell_type": "markdown",
   "id": "c96fa9ad-7205-4a9e-b568-d29b64deaac5",
   "metadata": {},
   "source": [
    "## Set labels"
   ]
  },
  {
   "cell_type": "code",
   "execution_count": null,
   "id": "5b95a947-5a89-45e0-a4e6-1dc96dea2300",
   "metadata": {},
   "outputs": [],
   "source": [
    "labels = os.listdir(train_path)\n",
    "\n",
    "print(\n",
    "    f\"Project Labels: {labels}\"\n",
    ")"
   ]
  },
  {
   "cell_type": "markdown",
   "id": "01b624ea-99d3-4c8c-9301-9747c0e7b8d7",
   "metadata": {},
   "source": [
    "## Set image shape"
   ]
  },
  {
   "cell_type": "code",
   "execution_count": null,
   "id": "a9baf0dd-4fd9-4958-b5df-c90ab1fb83c0",
   "metadata": {},
   "outputs": [],
   "source": [
    "## Import saved image shape embedding\n",
    "import joblib\n",
    "version = 'v1'\n",
    "image_shape = joblib.load(filename=f\"outputs/{version}/image_shape.pkl\")\n",
    "image_shape"
   ]
  },
  {
   "cell_type": "markdown",
   "id": "9d4a8244-3c03-40ac-abe4-2143e8c8b1ad",
   "metadata": {},
   "source": [
    "# Number of images in train, test and validation data"
   ]
  },
  {
   "cell_type": "code",
   "execution_count": null,
   "id": "84792315-99b4-4ccd-8d32-3362226eff25",
   "metadata": {},
   "outputs": [],
   "source": [
    "df_freq = pd.DataFrame([])\n",
    "for folder in ['train', 'validation', 'test']:\n",
    "    for label in labels:\n",
    "        df_freq = df_freq.append(\n",
    "            pd.Series(data={'Set': folder,\n",
    "                            'Label': label,\n",
    "                            'Frequency': int(len(os.listdir(my_data_dir + '/' + folder + '/' + label)))}\n",
    "                      ),\n",
    "            ignore_index=True\n",
    "        )\n",
    "\n",
    "        print(\n",
    "            f\"* {folder} - {label}: {len(os.listdir(my_data_dir+'/'+ folder + '/' + label))} images\")\n",
    "\n",
    "print(\"\\n\")\n",
    "sns.set_style(\"whitegrid\")\n",
    "plt.figure(figsize=(8, 5))\n",
    "sns.barplot(data=df_freq, x='Set', y='Frequency', hue='Label')\n",
    "plt.savefig(f'{file_path}/labels_distribution.png',\n",
    "            bbox_inches='tight', dpi=150)\n",
    "plt.show()"
   ]
  },
  {
   "cell_type": "markdown",
   "id": "4a409e84-b025-48d9-9d6a-eeee1620cddd",
   "metadata": {},
   "source": [
    "# Image data augmentation"
   ]
  },
  {
   "cell_type": "markdown",
   "id": "19676ece-2cf3-4790-be3f-21b71ba4cf71",
   "metadata": {},
   "source": [
    "## ImageDataGenerator"
   ]
  },
  {
   "cell_type": "code",
   "execution_count": null,
   "id": "c1083764-85a1-442b-bb7d-ebab9d0606d4",
   "metadata": {},
   "outputs": [],
   "source": [
    "from tensorflow.keras.preprocessing.image import ImageDataGenerator"
   ]
  },
  {
   "cell_type": "markdown",
   "id": "b0245c75-c8b6-47ae-833d-6a1e5e2030ff",
   "metadata": {},
   "source": [
    "### Initialize ImageDataGenerator"
   ]
  },
  {
   "cell_type": "code",
   "execution_count": null,
   "id": "be68af27-f409-4df8-964c-1a4d9fd9099a",
   "metadata": {},
   "outputs": [],
   "source": [
    "augmented_image_data = ImageDataGenerator(rotation_range=20,\n",
    "                                          width_shift_range=0.10,\n",
    "                                          height_shift_range=0.10,\n",
    "                                          shear_range=0.1,\n",
    "                                          zoom_range=0.1,\n",
    "                                          horizontal_flip=True,\n",
    "                                          vertical_flip=True,\n",
    "                                          fill_mode='nearest',\n",
    "                                          rescale=1./255\n",
    "                                          )"
   ]
  },
  {
   "cell_type": "markdown",
   "id": "ae504cd1-7874-4fb7-b044-aa5f2147f573",
   "metadata": {},
   "source": [
    "### Augment training image dataset"
   ]
  },
  {
   "cell_type": "code",
   "execution_count": null,
   "id": "7ba944c0-9ace-4ab1-8431-3f2a102c15ee",
   "metadata": {},
   "outputs": [],
   "source": [
    "batch_size = 20  # Set batch size\n",
    "train_set = augmented_image_data.flow_from_directory(train_path,\n",
    "                                                     target_size=image_shape[:2],\n",
    "                                                     color_mode='rgb',\n",
    "                                                     batch_size=batch_size,\n",
    "                                                     class_mode='binary',\n",
    "                                                     shuffle=True\n",
    "                                                     )\n",
    "\n",
    "train_set.class_indices"
   ]
  },
  {
   "cell_type": "markdown",
   "id": "cc70c882-bc4c-438c-a188-929b71d55482",
   "metadata": {},
   "source": [
    "### Augment validation image dataset"
   ]
  },
  {
   "cell_type": "code",
   "execution_count": null,
   "id": "50f9e59c-bdae-4361-bb16-e702768dcd4e",
   "metadata": {},
   "outputs": [],
   "source": [
    "validation_set = ImageDataGenerator(rescale=1./255).flow_from_directory(val_path,\n",
    "                                                                        target_size=image_shape[:2],\n",
    "                                                                        color_mode='rgb',\n",
    "                                                                        batch_size=batch_size,\n",
    "                                                                        class_mode='binary',\n",
    "                                                                        shuffle=False\n",
    "                                                                        )\n",
    "\n",
    "validation_set.class_indices"
   ]
  },
  {
   "cell_type": "markdown",
   "id": "bb43f7c1-e193-48db-b1f1-5d5d6ea2cf7c",
   "metadata": {},
   "source": [
    "### Augment test image dataset"
   ]
  },
  {
   "cell_type": "code",
   "execution_count": null,
   "id": "89842b73-d0a8-4cb5-9bea-12ca081f57cf",
   "metadata": {},
   "outputs": [],
   "source": [
    "test_set = ImageDataGenerator(rescale=1./255).flow_from_directory(test_path,\n",
    "                                                                  target_size=image_shape[:2],\n",
    "                                                                  color_mode='rgb',\n",
    "                                                                  batch_size=batch_size,\n",
    "                                                                  class_mode='binary',\n",
    "                                                                  shuffle=False\n",
    "                                                                  )\n",
    "\n",
    "test_set.class_indices"
   ]
  },
  {
   "cell_type": "markdown",
   "id": "7ffe94d6-20d5-411f-84fb-fa74484a7b17",
   "metadata": {},
   "source": [
    "## Plot augmented training image"
   ]
  },
  {
   "cell_type": "code",
   "execution_count": null,
   "id": "b82e56a7-f957-4309-82a9-286b4d4f7949",
   "metadata": {},
   "outputs": [],
   "source": [
    "for _ in range(3):\n",
    "    img, label = train_set.next()\n",
    "    print(img.shape)  # (1,256,256,3)\n",
    "    plt.imshow(img[0])\n",
    "    plt.show()"
   ]
  },
  {
   "cell_type": "markdown",
   "id": "cb413a47-ad4f-4001-9a4a-40c396446b36",
   "metadata": {},
   "source": [
    "## Plot augmented validation and test images"
   ]
  },
  {
   "cell_type": "code",
   "execution_count": null,
   "id": "60561030-aa6c-4e2d-8488-21c0f75ebd6a",
   "metadata": {},
   "outputs": [],
   "source": [
    "for _ in range(3):\n",
    "    img, label = validation_set.next()\n",
    "    print(img.shape)  # (1,256,256,3)\n",
    "    plt.imshow(img[0])\n",
    "    plt.show()"
   ]
  },
  {
   "cell_type": "code",
   "execution_count": null,
   "id": "f26fbff7-3b0f-405f-9d39-661c4769ad3f",
   "metadata": {},
   "outputs": [],
   "source": [
    "for _ in range(3):\n",
    "    img, label = test_set.next()\n",
    "    print(img.shape)  # (1,256,256,3)\n",
    "    plt.imshow(img[0])\n",
    "    plt.show()"
   ]
  },
  {
   "cell_type": "markdown",
   "id": "b7efd052-6c85-4305-a9db-a67a35f44e0b",
   "metadata": {},
   "source": [
    "## Save class_indices"
   ]
  },
  {
   "cell_type": "code",
   "execution_count": null,
   "id": "67df35fa-21c8-4f0c-8b17-a3e115924030",
   "metadata": {},
   "outputs": [],
   "source": [
    "joblib.dump(value=train_set.class_indices,\n",
    "            filename=f\"{file_path}/class_indices.pkl\")"
   ]
  },
  {
   "cell_type": "markdown",
   "id": "550541f8-0f5a-4b78-a823-b2c92d9b06f1",
   "metadata": {},
   "source": [
    "# Model creation"
   ]
  },
  {
   "cell_type": "markdown",
   "id": "af533b9d-3ab6-4ed1-a6a9-afe1e5632598",
   "metadata": {},
   "source": [
    "# ML model"
   ]
  },
  {
   "cell_type": "markdown",
   "id": "10e26656-d345-45d2-83f0-c80106f9dabf",
   "metadata": {},
   "source": [
    "## Import model packages"
   ]
  },
  {
   "cell_type": "code",
   "execution_count": null,
   "id": "cd477a82-b328-4d0a-9285-fccd7946efca",
   "metadata": {},
   "outputs": [],
   "source": [
    "from tensorflow.keras.models import Sequential\n",
    "from tensorflow.keras.layers import Activation, Dropout, Flatten, Dense, Conv2D, MaxPooling2D"
   ]
  },
  {
   "cell_type": "markdown",
   "id": "0c083d78-c11b-449a-b9b5-26f427e8f6b3",
   "metadata": {},
   "source": [
    "## Model"
   ]
  },
  {
   "cell_type": "code",
   "execution_count": null,
   "id": "8b1586a9-87c5-4021-a306-a02de3036df0",
   "metadata": {},
   "outputs": [],
   "source": [
    "def create_tf_model():\n",
    "    model = Sequential()\n",
    "\n",
    "    model.add(Conv2D(filters=32, kernel_size=(3, 3),\n",
    "              input_shape=image_shape, activation='relu', ))\n",
    "    model.add(MaxPooling2D(pool_size=(2, 2)))\n",
    "\n",
    "    model.add(Conv2D(filters=64, kernel_size=(3, 3),\n",
    "              input_shape=image_shape, activation='relu', ))\n",
    "    model.add(MaxPooling2D(pool_size=(2, 2)))\n",
    "\n",
    "    model.add(Conv2D(filters=64, kernel_size=(3, 3),\n",
    "              input_shape=image_shape, activation='relu', ))\n",
    "    model.add(MaxPooling2D(pool_size=(2, 2)))\n",
    "\n",
    "    model.add(Flatten())\n",
    "    model.add(Dense(128, activation='relu'))\n",
    "\n",
    "    model.add(Dropout(0.5))\n",
    "    model.add(Dense(1, activation='sigmoid'))\n",
    "\n",
    "    model.compile(loss='binary_crossentropy',\n",
    "                  optimizer='adam',\n",
    "                  metrics=['accuracy'])\n",
    "\n",
    "    return model"
   ]
  },
  {
   "cell_type": "markdown",
   "id": "efa1402b-80bb-4ba5-b41a-46598fe958a1",
   "metadata": {},
   "source": [
    "## Model Summary"
   ]
  },
  {
   "cell_type": "code",
   "execution_count": null,
   "id": "6ee8bc82-09af-419d-9794-ed13d906874f",
   "metadata": {},
   "outputs": [],
   "source": [
    "create_tf_model().summary()"
   ]
  },
  {
   "cell_type": "markdown",
   "id": "e5e42604-9d97-4230-b2eb-2ccedc22e9ef",
   "metadata": {},
   "source": [
    "## Early Stopping"
   ]
  },
  {
   "cell_type": "code",
   "execution_count": null,
   "id": "a90945ea-41be-48c9-9ebc-2e530ee435e4",
   "metadata": {},
   "outputs": [],
   "source": [
    "from tensorflow.keras.callbacks import EarlyStopping\n",
    "early_stop = EarlyStopping(monitor='val_loss', patience=3)"
   ]
  },
  {
   "cell_type": "markdown",
   "id": "d087817f-f9a6-4026-93cb-248f512a7ed3",
   "metadata": {},
   "source": [
    "## Fit model for model training"
   ]
  },
  {
   "cell_type": "code",
   "execution_count": null,
   "id": "e7e4cea8-4a37-4f05-91b0-9c445183d946",
   "metadata": {},
   "outputs": [],
   "source": [
    "model = create_tf_model()\n",
    "model.fit(train_set,\n",
    "          epochs=25,\n",
    "          steps_per_epoch=len(train_set.classes) // batch_size,\n",
    "          validation_data=validation_set,\n",
    "          callbacks=[early_stop],\n",
    "          verbose=1\n",
    "          )"
   ]
  },
  {
   "cell_type": "markdown",
   "id": "94a2e3f3-404a-4c0b-bc42-a994e50064a6",
   "metadata": {},
   "source": [
    "# Save model"
   ]
  },
  {
   "cell_type": "code",
   "execution_count": null,
   "id": "74a21a9a-f065-4253-87b7-2a09ccf40c28",
   "metadata": {},
   "outputs": [],
   "source": [
    "model.save('outputs/v1/malaria_detector_model.h5')"
   ]
  },
  {
   "cell_type": "markdown",
   "id": "ecdb9c0d-5bb7-475d-ace0-7142434aed04",
   "metadata": {},
   "source": [
    "# Model Performace"
   ]
  },
  {
   "cell_type": "markdown",
   "id": "0e4176ff-e749-4db7-9ea4-4d49eeaef095",
   "metadata": {},
   "source": [
    "## Model learning curve"
   ]
  },
  {
   "cell_type": "code",
   "execution_count": null,
   "id": "eaaa817a-fb11-4b37-9434-051808ea9195",
   "metadata": {},
   "outputs": [],
   "source": [
    "losses = pd.DataFrame(model.history.history)\n",
    "\n",
    "sns.set_style(\"whitegrid\")\n",
    "losses[['loss', 'val_loss']].plot(style='.-')\n",
    "plt.title(\"Loss\")\n",
    "plt.savefig(f'{file_path}/model_training_losses.png',\n",
    "            bbox_inches='tight', dpi=150)\n",
    "plt.show()\n",
    "\n",
    "print(\"\\n\")\n",
    "losses[['accuracy', 'val_accuracy']].plot(style='.-')\n",
    "plt.title(\"Accuracy\")\n",
    "plt.savefig(f'{file_path}/model_training_acc.png',\n",
    "            bbox_inches='tight', dpi=150)\n",
    "plt.show()"
   ]
  },
  {
   "cell_type": "markdown",
   "id": "f13f3e5a-22c9-4ab6-be80-8b03973b6a41",
   "metadata": {},
   "source": [
    "## Model Evaluation"
   ]
  },
  {
   "cell_type": "markdown",
   "id": "51318efc-53d8-45f3-b5d3-2123f92f5fbd",
   "metadata": {},
   "source": [
    "### Load saved model"
   ]
  },
  {
   "cell_type": "code",
   "execution_count": null,
   "id": "881697eb-5a9f-4d91-b9da-a4e91c7ded0a",
   "metadata": {},
   "outputs": [],
   "source": [
    "from keras.models import load_model\n",
    "model = load_model('outputs/v1/malaria_detector_model.h5')"
   ]
  },
  {
   "cell_type": "markdown",
   "id": "242fd20f-3bad-4523-9f10-e35be02c19d4",
   "metadata": {},
   "source": [
    "### Evaluate model on test set"
   ]
  },
  {
   "cell_type": "code",
   "execution_count": null,
   "id": "a2251d8e-b1a9-430b-9d56-2450a3eddd3f",
   "metadata": {},
   "outputs": [],
   "source": [
    "evaluation = model.evaluate(test_set)"
   ]
  },
  {
   "cell_type": "markdown",
   "id": "06f54dc1-1580-4f8a-9fb8-a1d992b28508",
   "metadata": {},
   "source": [
    "## Save evaluation pickle"
   ]
  },
  {
   "cell_type": "code",
   "execution_count": null,
   "id": "f970c24b-db7c-4804-b5f7-9f4efe3b9d6f",
   "metadata": {},
   "outputs": [],
   "source": [
    "joblib.dump(value=evaluation,\n",
    "            filename=f\"outputs/v1/evaluation.pkl\")"
   ]
  },
  {
   "cell_type": "markdown",
   "id": "28fde132-74cf-4b73-9e52-c1b70b0c2730",
   "metadata": {},
   "source": [
    "## Predict on new data"
   ]
  },
  {
   "cell_type": "markdown",
   "id": "ad33c439-0b38-4b96-bf88-1f3d4e4beb5b",
   "metadata": {},
   "source": [
    "### Load a random image as PIL"
   ]
  },
  {
   "cell_type": "code",
   "execution_count": null,
   "id": "4f1704a4-c3de-46c7-9863-b3a405293231",
   "metadata": {},
   "outputs": [],
   "source": [
    "from tensorflow.keras.preprocessing import image\n",
    "\n",
    "pointer = 66\n",
    "label = labels[0]  # select Uninfected or Parasitised\n",
    "\n",
    "pil_image = image.load_img(test_path + '/' + label + '/' + os.listdir(test_path+'/' + label)[pointer],\n",
    "                           target_size=image_shape, color_mode='rgb')\n",
    "print(f'Image shape: {pil_image.size}, Image mode: {pil_image.mode}')\n",
    "pil_image"
   ]
  },
  {
   "cell_type": "markdown",
   "id": "8e46a238-6991-4c34-ba78-4cda5db54ba3",
   "metadata": {},
   "source": [
    "### Convert image to array and prepare for prediction"
   ]
  },
  {
   "cell_type": "code",
   "execution_count": null,
   "id": "65dabde3-7377-4fbf-b414-608bcf8b610f",
   "metadata": {},
   "outputs": [],
   "source": [
    "my_image = image.img_to_array(pil_image)\n",
    "my_image = np.expand_dims(my_image, axis=0)/255\n",
    "print(my_image.shape)"
   ]
  },
  {
   "cell_type": "markdown",
   "id": "d7d0e307-3814-4d56-8e1c-bbfdcd66905c",
   "metadata": {},
   "source": [
    "### Predict class probabilities"
   ]
  },
  {
   "cell_type": "code",
   "execution_count": null,
   "id": "b590301c-7484-4846-a329-0b4f70a0e2a9",
   "metadata": {},
   "outputs": [],
   "source": [
    "pred_proba = model.predict(my_image)[0, 0]\n",
    "\n",
    "target_map = {v: k for k, v in train_set.class_indices.items()}\n",
    "pred_class = target_map[pred_proba > 0.5]\n",
    "\n",
    "if pred_class == target_map[0]:\n",
    "    pred_proba = 1 - pred_proba\n",
    "\n",
    "print(pred_proba)\n",
    "print(pred_class)"
   ]
  },
  {
   "cell_type": "markdown",
   "id": "a13a1e0d-f722-49a7-928f-908567e58e37",
   "metadata": {},
   "source": [
    "# Push files to Repo"
   ]
  },
  {
   "cell_type": "markdown",
   "id": "a9874714-50de-47db-bd0e-8660750d130b",
   "metadata": {},
   "source": [
    "## Push generated/new files from this Session to your GitHub repo"
   ]
  },
  {
   "cell_type": "markdown",
   "id": "29ca96d7-3dac-4004-bf65-5d613f8a75b0",
   "metadata": {},
   "source": [
    "### gitignore"
   ]
  },
  {
   "cell_type": "code",
   "execution_count": null,
   "id": "7079f4f2-ea69-4b22-a153-9160394a1d66",
   "metadata": {},
   "outputs": [],
   "source": [
    "!cat .gitignore"
   ]
  },
  {
   "cell_type": "markdown",
   "id": "745ec451-54fc-45ba-b8ab-6715947846ef",
   "metadata": {},
   "source": [
    "### Git status"
   ]
  },
  {
   "cell_type": "code",
   "execution_count": null,
   "id": "3ad5c63e-2dd2-47ac-b504-434c66d8b45f",
   "metadata": {},
   "outputs": [],
   "source": [
    "!git status"
   ]
  },
  {
   "cell_type": "markdown",
   "id": "8a20138a-4a2c-4477-97df-409209b50ecc",
   "metadata": {},
   "source": [
    "### Git add"
   ]
  },
  {
   "cell_type": "code",
   "execution_count": null,
   "id": "b26753df-adc9-46c8-9fc0-99a1db78f994",
   "metadata": {},
   "outputs": [],
   "source": [
    "!git add ."
   ]
  },
  {
   "cell_type": "markdown",
   "id": "f7b6e8d3-b5dc-4f05-bb5a-9b0379ab6778",
   "metadata": {},
   "source": [
    "### Git commit"
   ]
  },
  {
   "cell_type": "code",
   "execution_count": null,
   "id": "f4538380-d00b-443e-b1fd-4ed2a64ab792",
   "metadata": {},
   "outputs": [],
   "source": [
    "!git commit -am \" Add new plots\""
   ]
  },
  {
   "cell_type": "markdown",
   "id": "8a9062da-b558-47c6-9ee4-369bfc5c6f4b",
   "metadata": {},
   "source": [
    "### Git Push"
   ]
  },
  {
   "cell_type": "code",
   "execution_count": null,
   "id": "6bc2c5c4-d788-43c2-b6e6-b793ad51cdc6",
   "metadata": {},
   "outputs": [],
   "source": [
    "!git push"
   ]
  }
 ],
 "metadata": {
  "kernelspec": {
   "display_name": "Python 3 (ipykernel)",
   "language": "python",
   "name": "python3"
  },
  "language_info": {
   "codemirror_mode": {
    "name": "ipython",
    "version": 3
   },
   "file_extension": ".py",
   "mimetype": "text/x-python",
   "name": "python",
   "nbconvert_exporter": "python",
   "pygments_lexer": "ipython3",
   "version": "3.8.12"
  }
 },
 "nbformat": 4,
 "nbformat_minor": 5
}
